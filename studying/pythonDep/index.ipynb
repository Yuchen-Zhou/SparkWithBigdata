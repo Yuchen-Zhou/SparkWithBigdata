{
 "cells": [
  {
   "cell_type": "markdown",
   "metadata": {},
   "source": [
    "# Spark编程Python版\n",
    "\n",
    "在Spark中提供PySpark来进行编程，我们还需要安装`pyspark`这个库，使用`pip install pyspark`安装即可，注意版本号要和你的Spark版本一致 \n",
    "\n",
    "- [Python基础](https://github.com/Yuchen-Zhou/PythonLearning)\n",
    "- [Spark RDD](./PySpark-RDD.ipynb)\n",
    "- [Spark SQL](./PySpark-SQL.ipynb)\n",
    "- [Spark Streaming](./PySpark-Streaming.ipynb)\n",
    "- [Spark MLlib](./PySpark-MLlib.ipynb)"
   ]
  }
 ],
 "metadata": {
  "language_info": {
   "name": "python"
  },
  "orig_nbformat": 4
 },
 "nbformat": 4,
 "nbformat_minor": 2
}
