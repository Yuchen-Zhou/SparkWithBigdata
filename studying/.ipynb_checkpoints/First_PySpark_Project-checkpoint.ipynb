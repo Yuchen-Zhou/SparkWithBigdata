{
 "cells": [
  {
   "cell_type": "markdown",
   "id": "0f2d7eaa",
   "metadata": {},
   "source": [
    "# PySpark 数据清洗分析\n",
    "\n",
    "- 在运行代码之前，你必须确认Pypark的版本和Python的版本是否对应Spark\n",
    "- 确认Python的环境变量是否修改"
   ]
  },
  {
   "cell_type": "code",
   "execution_count": 1,
   "id": "79e5cf83",
   "metadata": {},
   "outputs": [
    {
     "name": "stdout",
     "output_type": "stream",
     "text": [
      "Line with A: 62 , Line with B: 31\n"
     ]
    }
   ],
   "source": [
    "#这是一个小测试\n",
    "from pyspark import SparkConf, SparkContext\n",
    "\n",
    "conf = SparkConf().setAppName('app').setMaster('local')\n",
    "sc = SparkContext(conf=conf)\n",
    "file = 'file:///opt/software/spark/README.md'\n",
    "data = sc.textFile(file).cache()\n",
    "numAs = data.filter(lambda line: 'a' in line).count()\n",
    "numBs = data.filter(lambda line: 'b' in line).count()\n",
    "print('Line with A: %s , Line with B: %s' % (numAs, numBs))"
   ]
  },
  {
   "cell_type": "markdown",
   "id": "0caf679a",
   "metadata": {},
   "source": [
    "## 清洗股票数据\n",
    "- 将上证、深证以及创业板的股票个数统计出来\n",
    "\n",
    "在之前操作中，我们已经将股票列表数据上传至HDFS中，现在我们只需要读取hdfs文件即可进行数据分析"
   ]
  },
  {
   "cell_type": "code",
   "execution_count": 3,
   "id": "4dd11d81",
   "metadata": {},
   "outputs": [],
   "source": [
    "stock_file = 'hdfs:///user/spark/stocks/part-m-00000'\n",
    "stock_data = sc.textFile(stock_file).cache()\n",
    "sh_market = stock_data.filter(lambda line: '6' in line[0]).count()\n",
    "sz_market = stock_data.filter(lambda line: '3' in line[0]).count()\n",
    "cz_market = stock_data.count() - sh_market - sz_market"
   ]
  },
  {
   "cell_type": "markdown",
   "id": "a1d02d80",
   "metadata": {},
   "source": [
    "数据清洗完成，接下来我们将三大指数的股票写入到本地文件中"
   ]
  },
  {
   "cell_type": "code",
   "execution_count": 10,
   "id": "80f8c454",
   "metadata": {},
   "outputs": [],
   "source": [
    "f = open('./market_spilt.csv', 'w')\n",
    "f.writelines('market, numbers \\n')\n",
    "f.writelines('shanghai, {} \\n'.format(sh_market))\n",
    "f.writelines('shenzhen, {} \\n'.format(sz_market))\n",
    "f.writelines('chuangyeban, {} \\n'.format(cz_market))\n",
    "f.close()"
   ]
  },
  {
   "cell_type": "markdown",
   "id": "2e162670",
   "metadata": {},
   "source": [
    "我们使用Pandas查看数据的写入情况"
   ]
  },
  {
   "cell_type": "code",
   "execution_count": 11,
   "id": "3afc8622",
   "metadata": {},
   "outputs": [
    {
     "data": {
      "text/html": [
       "<div>\n",
       "<style scoped>\n",
       "    .dataframe tbody tr th:only-of-type {\n",
       "        vertical-align: middle;\n",
       "    }\n",
       "\n",
       "    .dataframe tbody tr th {\n",
       "        vertical-align: top;\n",
       "    }\n",
       "\n",
       "    .dataframe thead th {\n",
       "        text-align: right;\n",
       "    }\n",
       "</style>\n",
       "<table border=\"1\" class=\"dataframe\">\n",
       "  <thead>\n",
       "    <tr style=\"text-align: right;\">\n",
       "      <th></th>\n",
       "      <th>market</th>\n",
       "      <th>numbers</th>\n",
       "    </tr>\n",
       "  </thead>\n",
       "  <tbody>\n",
       "    <tr>\n",
       "      <th>0</th>\n",
       "      <td>shanghai</td>\n",
       "      <td>2138</td>\n",
       "    </tr>\n",
       "    <tr>\n",
       "      <th>1</th>\n",
       "      <td>shenzhen</td>\n",
       "      <td>1089</td>\n",
       "    </tr>\n",
       "    <tr>\n",
       "      <th>2</th>\n",
       "      <td>chuangyeban</td>\n",
       "      <td>1392</td>\n",
       "    </tr>\n",
       "  </tbody>\n",
       "</table>\n",
       "</div>"
      ],
      "text/plain": [
       "        market   numbers \n",
       "0     shanghai       2138\n",
       "1     shenzhen       1089\n",
       "2  chuangyeban       1392"
      ]
     },
     "execution_count": 11,
     "metadata": {},
     "output_type": "execute_result"
    }
   ],
   "source": [
    "import pandas as pd\n",
    "df = pd.read_csv('./market_spilt.csv')\n",
    "df"
   ]
  }
 ],
 "metadata": {
  "kernelspec": {
   "display_name": "Python 3",
   "language": "python",
   "name": "python3"
  },
  "language_info": {
   "codemirror_mode": {
    "name": "ipython",
    "version": 3
   },
   "file_extension": ".py",
   "mimetype": "text/x-python",
   "name": "python",
   "nbconvert_exporter": "python",
   "pygments_lexer": "ipython3",
   "version": "3.6.13"
  }
 },
 "nbformat": 4,
 "nbformat_minor": 5
}
