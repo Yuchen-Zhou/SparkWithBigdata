{
 "cells": [
  {
   "cell_type": "markdown",
   "id": "3bfc6827",
   "metadata": {},
   "source": [
    "# Amazon Top 50 Bestselling Books 2009 - 2019\n",
    "该数据从Kaggle上下载"
   ]
  },
  {
   "cell_type": "code",
   "execution_count": 1,
   "id": "52800656",
   "metadata": {},
   "outputs": [],
   "source": [
    "import pandas as pd\n",
    "from pyspark import SparkConf, SparkContext\n",
    "from pyspark.sql import SparkSession, Row\n",
    "from pyspark.sql.types import *\n",
    "\n",
    "sc = SparkContext(conf= SparkConf().setMaster('local'))\n",
    "spark = SparkSession.builder.getOrCreate()"
   ]
  },
  {
   "cell_type": "code",
   "execution_count": 79,
   "id": "942ee9f3",
   "metadata": {},
   "outputs": [
    {
     "data": {
      "text/html": [
       "<div>\n",
       "<style scoped>\n",
       "    .dataframe tbody tr th:only-of-type {\n",
       "        vertical-align: middle;\n",
       "    }\n",
       "\n",
       "    .dataframe tbody tr th {\n",
       "        vertical-align: top;\n",
       "    }\n",
       "\n",
       "    .dataframe thead th {\n",
       "        text-align: right;\n",
       "    }\n",
       "</style>\n",
       "<table border=\"1\" class=\"dataframe\">\n",
       "  <thead>\n",
       "    <tr style=\"text-align: right;\">\n",
       "      <th></th>\n",
       "      <th>Name</th>\n",
       "      <th>Author</th>\n",
       "      <th>User Rating</th>\n",
       "      <th>Reviews</th>\n",
       "      <th>Price</th>\n",
       "      <th>Year</th>\n",
       "      <th>Genre</th>\n",
       "    </tr>\n",
       "  </thead>\n",
       "  <tbody>\n",
       "    <tr>\n",
       "      <th>0</th>\n",
       "      <td>10-Day Green Smoothie Cleanse</td>\n",
       "      <td>JJ Smith</td>\n",
       "      <td>4.7</td>\n",
       "      <td>17350</td>\n",
       "      <td>8</td>\n",
       "      <td>2016</td>\n",
       "      <td>Non Fiction</td>\n",
       "    </tr>\n",
       "    <tr>\n",
       "      <th>1</th>\n",
       "      <td>11/22/63: A Novel</td>\n",
       "      <td>Stephen King</td>\n",
       "      <td>4.6</td>\n",
       "      <td>2052</td>\n",
       "      <td>22</td>\n",
       "      <td>2011</td>\n",
       "      <td>Fiction</td>\n",
       "    </tr>\n",
       "    <tr>\n",
       "      <th>2</th>\n",
       "      <td>12 Rules for Life: An Antidote to Chaos</td>\n",
       "      <td>Jordan B. Peterson</td>\n",
       "      <td>4.7</td>\n",
       "      <td>18979</td>\n",
       "      <td>15</td>\n",
       "      <td>2018</td>\n",
       "      <td>Non Fiction</td>\n",
       "    </tr>\n",
       "    <tr>\n",
       "      <th>3</th>\n",
       "      <td>1984 (Signet Classics)</td>\n",
       "      <td>George Orwell</td>\n",
       "      <td>4.7</td>\n",
       "      <td>21424</td>\n",
       "      <td>6</td>\n",
       "      <td>2017</td>\n",
       "      <td>Fiction</td>\n",
       "    </tr>\n",
       "    <tr>\n",
       "      <th>4</th>\n",
       "      <td>5,000 Awesome Facts (About Everything!) (Natio...</td>\n",
       "      <td>National Geographic Kids</td>\n",
       "      <td>4.8</td>\n",
       "      <td>7665</td>\n",
       "      <td>12</td>\n",
       "      <td>2019</td>\n",
       "      <td>Non Fiction</td>\n",
       "    </tr>\n",
       "    <tr>\n",
       "      <th>...</th>\n",
       "      <td>...</td>\n",
       "      <td>...</td>\n",
       "      <td>...</td>\n",
       "      <td>...</td>\n",
       "      <td>...</td>\n",
       "      <td>...</td>\n",
       "      <td>...</td>\n",
       "    </tr>\n",
       "    <tr>\n",
       "      <th>545</th>\n",
       "      <td>Wrecking Ball (Diary of a Wimpy Kid Book 14)</td>\n",
       "      <td>Jeff Kinney</td>\n",
       "      <td>4.9</td>\n",
       "      <td>9413</td>\n",
       "      <td>8</td>\n",
       "      <td>2019</td>\n",
       "      <td>Fiction</td>\n",
       "    </tr>\n",
       "    <tr>\n",
       "      <th>546</th>\n",
       "      <td>You Are a Badass: How to Stop Doubting Your Gr...</td>\n",
       "      <td>Jen Sincero</td>\n",
       "      <td>4.7</td>\n",
       "      <td>14331</td>\n",
       "      <td>8</td>\n",
       "      <td>2016</td>\n",
       "      <td>Non Fiction</td>\n",
       "    </tr>\n",
       "    <tr>\n",
       "      <th>547</th>\n",
       "      <td>You Are a Badass: How to Stop Doubting Your Gr...</td>\n",
       "      <td>Jen Sincero</td>\n",
       "      <td>4.7</td>\n",
       "      <td>14331</td>\n",
       "      <td>8</td>\n",
       "      <td>2017</td>\n",
       "      <td>Non Fiction</td>\n",
       "    </tr>\n",
       "    <tr>\n",
       "      <th>548</th>\n",
       "      <td>You Are a Badass: How to Stop Doubting Your Gr...</td>\n",
       "      <td>Jen Sincero</td>\n",
       "      <td>4.7</td>\n",
       "      <td>14331</td>\n",
       "      <td>8</td>\n",
       "      <td>2018</td>\n",
       "      <td>Non Fiction</td>\n",
       "    </tr>\n",
       "    <tr>\n",
       "      <th>549</th>\n",
       "      <td>You Are a Badass: How to Stop Doubting Your Gr...</td>\n",
       "      <td>Jen Sincero</td>\n",
       "      <td>4.7</td>\n",
       "      <td>14331</td>\n",
       "      <td>8</td>\n",
       "      <td>2019</td>\n",
       "      <td>Non Fiction</td>\n",
       "    </tr>\n",
       "  </tbody>\n",
       "</table>\n",
       "<p>538 rows × 7 columns</p>\n",
       "</div>"
      ],
      "text/plain": [
       "                                                  Name  \\\n",
       "0                        10-Day Green Smoothie Cleanse   \n",
       "1                                    11/22/63: A Novel   \n",
       "2              12 Rules for Life: An Antidote to Chaos   \n",
       "3                               1984 (Signet Classics)   \n",
       "4    5,000 Awesome Facts (About Everything!) (Natio...   \n",
       "..                                                 ...   \n",
       "545       Wrecking Ball (Diary of a Wimpy Kid Book 14)   \n",
       "546  You Are a Badass: How to Stop Doubting Your Gr...   \n",
       "547  You Are a Badass: How to Stop Doubting Your Gr...   \n",
       "548  You Are a Badass: How to Stop Doubting Your Gr...   \n",
       "549  You Are a Badass: How to Stop Doubting Your Gr...   \n",
       "\n",
       "                       Author  User Rating  Reviews  Price  Year        Genre  \n",
       "0                    JJ Smith          4.7    17350      8  2016  Non Fiction  \n",
       "1                Stephen King          4.6     2052     22  2011      Fiction  \n",
       "2          Jordan B. Peterson          4.7    18979     15  2018  Non Fiction  \n",
       "3               George Orwell          4.7    21424      6  2017      Fiction  \n",
       "4    National Geographic Kids          4.8     7665     12  2019  Non Fiction  \n",
       "..                        ...          ...      ...    ...   ...          ...  \n",
       "545               Jeff Kinney          4.9     9413      8  2019      Fiction  \n",
       "546               Jen Sincero          4.7    14331      8  2016  Non Fiction  \n",
       "547               Jen Sincero          4.7    14331      8  2017  Non Fiction  \n",
       "548               Jen Sincero          4.7    14331      8  2018  Non Fiction  \n",
       "549               Jen Sincero          4.7    14331      8  2019  Non Fiction  \n",
       "\n",
       "[538 rows x 7 columns]"
      ]
     },
     "execution_count": 79,
     "metadata": {},
     "output_type": "execute_result"
    }
   ],
   "source": [
    "df = pd.read_csv('../data/bestsellers_with_categories.csv')\n",
    "\n",
    "\n",
    "\n",
    "#这里将价格为0的行去除\n",
    "index = df[df['Price']==0].index\n",
    "df2 = df.drop(index, axis=0)\n",
    "df2"
   ]
  },
  {
   "cell_type": "markdown",
   "id": "f5fba909",
   "metadata": {},
   "source": [
    "行550 列7的csv表格"
   ]
  },
  {
   "cell_type": "code",
   "execution_count": 56,
   "id": "00c7dc8f",
   "metadata": {},
   "outputs": [
    {
     "data": {
      "text/html": [
       "<div>\n",
       "<style scoped>\n",
       "    .dataframe tbody tr th:only-of-type {\n",
       "        vertical-align: middle;\n",
       "    }\n",
       "\n",
       "    .dataframe tbody tr th {\n",
       "        vertical-align: top;\n",
       "    }\n",
       "\n",
       "    .dataframe thead th {\n",
       "        text-align: right;\n",
       "    }\n",
       "</style>\n",
       "<table border=\"1\" class=\"dataframe\">\n",
       "  <thead>\n",
       "    <tr style=\"text-align: right;\">\n",
       "      <th></th>\n",
       "      <th>User Rating</th>\n",
       "      <th>Reviews</th>\n",
       "      <th>Price</th>\n",
       "      <th>Year</th>\n",
       "    </tr>\n",
       "  </thead>\n",
       "  <tbody>\n",
       "    <tr>\n",
       "      <th>count</th>\n",
       "      <td>550.000000</td>\n",
       "      <td>550.000000</td>\n",
       "      <td>550.000000</td>\n",
       "      <td>550.000000</td>\n",
       "    </tr>\n",
       "    <tr>\n",
       "      <th>mean</th>\n",
       "      <td>4.618364</td>\n",
       "      <td>11953.281818</td>\n",
       "      <td>13.100000</td>\n",
       "      <td>2014.000000</td>\n",
       "    </tr>\n",
       "    <tr>\n",
       "      <th>std</th>\n",
       "      <td>0.226980</td>\n",
       "      <td>11731.132017</td>\n",
       "      <td>10.842262</td>\n",
       "      <td>3.165156</td>\n",
       "    </tr>\n",
       "    <tr>\n",
       "      <th>min</th>\n",
       "      <td>3.300000</td>\n",
       "      <td>37.000000</td>\n",
       "      <td>0.000000</td>\n",
       "      <td>2009.000000</td>\n",
       "    </tr>\n",
       "    <tr>\n",
       "      <th>25%</th>\n",
       "      <td>4.500000</td>\n",
       "      <td>4058.000000</td>\n",
       "      <td>7.000000</td>\n",
       "      <td>2011.000000</td>\n",
       "    </tr>\n",
       "    <tr>\n",
       "      <th>50%</th>\n",
       "      <td>4.700000</td>\n",
       "      <td>8580.000000</td>\n",
       "      <td>11.000000</td>\n",
       "      <td>2014.000000</td>\n",
       "    </tr>\n",
       "    <tr>\n",
       "      <th>75%</th>\n",
       "      <td>4.800000</td>\n",
       "      <td>17253.250000</td>\n",
       "      <td>16.000000</td>\n",
       "      <td>2017.000000</td>\n",
       "    </tr>\n",
       "    <tr>\n",
       "      <th>max</th>\n",
       "      <td>4.900000</td>\n",
       "      <td>87841.000000</td>\n",
       "      <td>105.000000</td>\n",
       "      <td>2019.000000</td>\n",
       "    </tr>\n",
       "  </tbody>\n",
       "</table>\n",
       "</div>"
      ],
      "text/plain": [
       "       User Rating       Reviews       Price         Year\n",
       "count   550.000000    550.000000  550.000000   550.000000\n",
       "mean      4.618364  11953.281818   13.100000  2014.000000\n",
       "std       0.226980  11731.132017   10.842262     3.165156\n",
       "min       3.300000     37.000000    0.000000  2009.000000\n",
       "25%       4.500000   4058.000000    7.000000  2011.000000\n",
       "50%       4.700000   8580.000000   11.000000  2014.000000\n",
       "75%       4.800000  17253.250000   16.000000  2017.000000\n",
       "max       4.900000  87841.000000  105.000000  2019.000000"
      ]
     },
     "execution_count": 56,
     "metadata": {},
     "output_type": "execute_result"
    }
   ],
   "source": [
    "df = df.drop\n",
    "df.describe()"
   ]
  },
  {
   "cell_type": "markdown",
   "id": "8da7f1f3",
   "metadata": {},
   "source": [
    "可以看出User Rating的均值在4.6分，最小值为3.3，最大值为4.9\n"
   ]
  },
  {
   "cell_type": "code",
   "execution_count": 4,
   "id": "5242dd90",
   "metadata": {},
   "outputs": [
    {
     "name": "stdout",
     "output_type": "stream",
     "text": [
      "<class 'pandas.core.frame.DataFrame'>\n",
      "RangeIndex: 550 entries, 0 to 549\n",
      "Data columns (total 7 columns):\n",
      " #   Column       Non-Null Count  Dtype  \n",
      "---  ------       --------------  -----  \n",
      " 0   Name         550 non-null    object \n",
      " 1   Author       550 non-null    object \n",
      " 2   User Rating  550 non-null    float64\n",
      " 3   Reviews      550 non-null    int64  \n",
      " 4   Price        550 non-null    int64  \n",
      " 5   Year         550 non-null    int64  \n",
      " 6   Genre        550 non-null    object \n",
      "dtypes: float64(1), int64(3), object(3)\n",
      "memory usage: 30.2+ KB\n"
     ]
    }
   ],
   "source": [
    "df.info()"
   ]
  },
  {
   "cell_type": "markdown",
   "id": "f11b3f2d",
   "metadata": {},
   "source": [
    "## 使用Spark读取数据"
   ]
  },
  {
   "cell_type": "code",
   "execution_count": 10,
   "id": "b39bbb8b",
   "metadata": {},
   "outputs": [],
   "source": [
    "#将csv文件上传\n",
    "!hadoop fs -put /home/spark/code/SparkProgramming-PySpark/data/bestsellers_with_categories.csv /user/spark/data/"
   ]
  },
  {
   "cell_type": "code",
   "execution_count": 2,
   "id": "c61626cb",
   "metadata": {},
   "outputs": [
    {
     "name": "stdout",
     "output_type": "stream",
     "text": [
      "+--------------------+--------------------+-----------+-------+-----+----+-----------+\n",
      "|                Name|              Author|User Rating|Reviews|Price|Year|      Genre|\n",
      "+--------------------+--------------------+-----------+-------+-----+----+-----------+\n",
      "|10-Day Green Smoo...|            JJ Smith|        4.7|  17350|    8|2016|Non Fiction|\n",
      "|   11/22/63: A Novel|        Stephen King|        4.6|   2052|   22|2011|    Fiction|\n",
      "|12 Rules for Life...|  Jordan B. Peterson|        4.7|  18979|   15|2018|Non Fiction|\n",
      "|1984 (Signet Clas...|       George Orwell|        4.7|  21424|    6|2017|    Fiction|\n",
      "|5,000 Awesome Fac...|National Geograph...|        4.8|   7665|   12|2019|Non Fiction|\n",
      "|A Dance with Drag...| George R. R. Martin|        4.4|  12643|   11|2011|    Fiction|\n",
      "|A Game of Thrones...| George R. R. Martin|        4.7|  19735|   30|2014|    Fiction|\n",
      "|A Gentleman in Mo...|         Amor Towles|        4.7|  19699|   15|2017|    Fiction|\n",
      "|A Higher Loyalty:...|         James Comey|        4.7|   5983|    3|2018|Non Fiction|\n",
      "|A Man Called Ove:...|     Fredrik Backman|        4.6|  23848|    8|2016|    Fiction|\n",
      "|A Man Called Ove:...|     Fredrik Backman|        4.6|  23848|    8|2017|    Fiction|\n",
      "|A Patriot's Histo...|    Larry Schweikart|        4.6|    460|    2|2010|Non Fiction|\n",
      "|A Stolen Life: A ...|       Jaycee Dugard|        4.6|   4149|   32|2011|Non Fiction|\n",
      "|A Wrinkle in Time...|   Madeleine L'Engle|        4.5|   5153|    5|2018|    Fiction|\n",
      "|Act Like a Lady, ...|        Steve Harvey|        4.6|   5013|   17|2009|Non Fiction|\n",
      "|Adult Coloring Bo...|Adult Coloring Bo...|        4.5|   2313|    4|2016|Non Fiction|\n",
      "|Adult Coloring Bo...|  Blue Star Coloring|        4.6|   2925|    6|2015|Non Fiction|\n",
      "|Adult Coloring Bo...|  Blue Star Coloring|        4.4|   2951|    6|2015|Non Fiction|\n",
      "|Adult Coloring Bo...|Coloring Books fo...|        4.5|   2426|    8|2015|Non Fiction|\n",
      "|  Alexander Hamilton|         Ron Chernow|        4.8|   9198|   13|2016|Non Fiction|\n",
      "+--------------------+--------------------+-----------+-------+-----+----+-----------+\n",
      "only showing top 20 rows\n",
      "\n"
     ]
    }
   ],
   "source": [
    "sparkdf = spark.read.options(header='True', inferSchema='True', delimiter=',')\\\n",
    "                            .csv('data/bestsellers_with_categories.csv')\n",
    "sparkdf.show()"
   ]
  },
  {
   "cell_type": "code",
   "execution_count": 3,
   "id": "9851268a",
   "metadata": {},
   "outputs": [
    {
     "name": "stdout",
     "output_type": "stream",
     "text": [
      "root\n",
      " |-- Name: string (nullable = true)\n",
      " |-- Author: string (nullable = true)\n",
      " |-- User Rating: double (nullable = true)\n",
      " |-- Reviews: integer (nullable = true)\n",
      " |-- Price: integer (nullable = true)\n",
      " |-- Year: integer (nullable = true)\n",
      " |-- Genre: string (nullable = true)\n",
      "\n"
     ]
    }
   ],
   "source": [
    "sparkdf.printSchema()"
   ]
  },
  {
   "cell_type": "markdown",
   "id": "9f09e181",
   "metadata": {},
   "source": [
    "### 1.分析得出评分前10的书籍名字及评分"
   ]
  },
  {
   "cell_type": "code",
   "execution_count": 6,
   "id": "d3026686",
   "metadata": {},
   "outputs": [
    {
     "name": "stdout",
     "output_type": "stream",
     "text": [
      "+--------------------+-----------+\n",
      "|                Name|User Rating|\n",
      "+--------------------+-----------+\n",
      "|Goodnight, Goodni...|        4.9|\n",
      "|Oh, the Places Yo...|        4.9|\n",
      "|Goodnight, Goodni...|        4.9|\n",
      "|Brown Bear, Brown...|        4.9|\n",
      "|Hamilton: The Rev...|        4.9|\n",
      "|Dog Man: A Tale o...|        4.9|\n",
      "|Harry Potter and ...|        4.9|\n",
      "|Dog Man: Brawl of...|        4.9|\n",
      "|Harry Potter and ...|        4.9|\n",
      "|Dog Man: For Whom...|        4.9|\n",
      "|Harry Potter and ...|        4.9|\n",
      "|Jesus Calling: En...|        4.9|\n",
      "|Jesus Calling: En...|        4.9|\n",
      "|Brown Bear, Brown...|        4.9|\n",
      "|Jesus Calling: En...|        4.9|\n",
      "|Dog Man: Brawl of...|        4.9|\n",
      "|Jesus Calling: En...|        4.9|\n",
      "|Dog Man: Lord of ...|        4.9|\n",
      "|Last Week Tonight...|        4.9|\n",
      "|Humans of New Yor...|        4.9|\n",
      "+--------------------+-----------+\n",
      "only showing top 20 rows\n",
      "\n"
     ]
    }
   ],
   "source": [
    "sparkdf.sort(sparkdf['User Rating'].desc()).select('Name', 'User Rating').show(20)"
   ]
  },
  {
   "cell_type": "markdown",
   "id": "17d93793",
   "metadata": {},
   "source": [
    "### 2.分析得出阅读量前十的书籍和阅读量"
   ]
  },
  {
   "cell_type": "code",
   "execution_count": 36,
   "id": "a90959bb",
   "metadata": {},
   "outputs": [
    {
     "name": "stdout",
     "output_type": "stream",
     "text": [
      "+--------------------+-------+\n",
      "|                Name|Reviews|\n",
      "+--------------------+-------+\n",
      "|Where the Crawdad...|  87841|\n",
      "|The Girl on the T...|  79446|\n",
      "|The Girl on the T...|  79446|\n",
      "|            Becoming|  61133|\n",
      "|            Becoming|  61133|\n",
      "|           Gone Girl|  57271|\n",
      "|           Gone Girl|  57271|\n",
      "|           Gone Girl|  57271|\n",
      "|The Fault in Our ...|  50482|\n",
      "|The Fault in Our ...|  50482|\n",
      "|The Fault in Our ...|  50482|\n",
      "|The Fault in Our ...|  50482|\n",
      "|The Nightingale: ...|  49288|\n",
      "|The Nightingale: ...|  49288|\n",
      "|Fifty Shades of G...|  47265|\n",
      "|Fifty Shades of G...|  47265|\n",
      "|         The Martian|  39459|\n",
      "|All the Light We ...|  36348|\n",
      "|All the Light We ...|  36348|\n",
      "|       The Alchemist|  35799|\n",
      "+--------------------+-------+\n",
      "only showing top 20 rows\n",
      "\n"
     ]
    }
   ],
   "source": [
    "sparkdf.sort(sparkdf['Reviews'].desc()).select('Name', 'Reviews').show()"
   ]
  },
  {
   "cell_type": "markdown",
   "id": "fc115466",
   "metadata": {},
   "source": [
    "### 3.分析得出每个作者的总阅读量"
   ]
  },
  {
   "cell_type": "code",
   "execution_count": 45,
   "id": "ed124837",
   "metadata": {},
   "outputs": [
    {
     "name": "stdout",
     "output_type": "stream",
     "text": [
      "+--------------------+-------+\n",
      "|              Auhtor|Reviews|\n",
      "+--------------------+-------+\n",
      "|     Suzanne Collins| 278329|\n",
      "|          John Green| 210419|\n",
      "|           E L James| 178011|\n",
      "|           Dr. Seuss| 176545|\n",
      "|       Gillian Flynn| 171813|\n",
      "|       Paula Hawkins| 158892|\n",
      "|   Laura Hillenbrand| 148365|\n",
      "|          Harper Lee| 146152|\n",
      "|        Gary Chapman| 145958|\n",
      "|     Don Miguel Ruiz| 139848|\n",
      "|          Eric Carle| 136822|\n",
      "|       Dale Carnegie| 125005|\n",
      "|      Michelle Obama| 122266|\n",
      "|         Sarah Young| 117456|\n",
      "|       R. J. Palacio| 108125|\n",
      "|      Kristin Hannah|  98576|\n",
      "|         Marie Kondō|  90564|\n",
      "|         Delia Owens|  87841|\n",
      "|        Roger Priddy|  86615|\n",
      "|American Psycholo...|  85800|\n",
      "+--------------------+-------+\n",
      "only showing top 20 rows\n",
      "\n"
     ]
    }
   ],
   "source": [
    "rdd = sparkdf.select('Author', 'Reviews').rdd\n",
    "result = rdd.map(lambda line: (line['Author'], line['Reviews']))\\\n",
    "        .reduceByKey(lambda a,b: a+b).sortBy(lambda x: x[1], False)\n",
    "resultDF = result.toDF()\n",
    "resultDF = resultDF.withColumnRenamed('_1', 'Auhtor')\\\n",
    "    .withColumnRenamed('_2', 'Reviews')\n",
    "\n",
    "resultDF.show()"
   ]
  },
  {
   "cell_type": "markdown",
   "id": "08999954",
   "metadata": {},
   "source": [
    "写入数据库"
   ]
  },
  {
   "cell_type": "code",
   "execution_count": 47,
   "id": "c0b370e9",
   "metadata": {},
   "outputs": [],
   "source": [
    "schema = StructType([StructField('Author', StringType(), True),\n",
    "                    StructField('Reviews', LongType(), True)])\n",
    "\n",
    "prop = {}\n",
    "prop['user'] = 'root'\n",
    "prop['password'] = 'Passwd1!'\n",
    "prop['driver'] = 'com.mysql.jdbc.Driver'\n",
    "resultDF.write.jdbc('jdbc:mysql://localhost:3306/spark', 'Amazon_ReviewsTop15', 'append', prop)"
   ]
  },
  {
   "cell_type": "markdown",
   "id": "c4618bad",
   "metadata": {},
   "source": [
    "### 4.分析各个评分的个数"
   ]
  },
  {
   "cell_type": "code",
   "execution_count": 6,
   "id": "5784c509",
   "metadata": {},
   "outputs": [
    {
     "name": "stdout",
     "output_type": "stream",
     "text": [
      "+-----------+------+\n",
      "|User Rating|Counts|\n",
      "+-----------+------+\n",
      "|        3.3|     1|\n",
      "|        3.6|     1|\n",
      "|        3.8|     2|\n",
      "|        3.9|     3|\n",
      "|        4.0|    14|\n",
      "|        4.1|     6|\n",
      "|        4.2|     8|\n",
      "|        4.3|    25|\n",
      "|        4.4|    38|\n",
      "|        4.5|    60|\n",
      "|        4.6|   105|\n",
      "|        4.7|   108|\n",
      "|        4.8|   127|\n",
      "|        4.9|    52|\n",
      "+-----------+------+\n",
      "\n"
     ]
    }
   ],
   "source": [
    "rdd = sparkdf.select('User Rating').rdd\n",
    "rdd1 = rdd.map(lambda line: (line['User Rating'], 1)).reduceByKey(lambda a,b: a+b)\\\n",
    "            .sortByKey(True)\n",
    "rating_countDF = rdd1.toDF()\n",
    "rating_countDF = rating_countDF.withColumnRenamed('_1', 'User Rating').withColumnRenamed('_2', 'Counts')\n",
    "rating_countDF.show()"
   ]
  },
  {
   "cell_type": "code",
   "execution_count": 109,
   "id": "8e94aac6",
   "metadata": {},
   "outputs": [],
   "source": [
    "#保存数据\n",
    "\n",
    "prop = {}\n",
    "prop['user'] = 'root'\n",
    "prop['password'] = 'Passwd1!'\n",
    "prop['driver'] = 'com.mysql.jdbc.Driver'\n",
    "\n",
    "rating_countDF.write.jdbc('jdbc:mysql://localhost:3306/spark', 'Rating_counts', 'append', prop)"
   ]
  }
 ],
 "metadata": {
  "kernelspec": {
   "display_name": "Python 3",
   "language": "python",
   "name": "python3"
  },
  "language_info": {
   "codemirror_mode": {
    "name": "ipython",
    "version": 3
   },
   "file_extension": ".py",
   "mimetype": "text/x-python",
   "name": "python",
   "nbconvert_exporter": "python",
   "pygments_lexer": "ipython3",
   "version": "3.6.13"
  }
 },
 "nbformat": 4,
 "nbformat_minor": 5
}
